{
 "cells": [
  {
   "cell_type": "code",
   "execution_count": null,
   "metadata": {},
   "outputs": [],
   "source": [
    "#음계 문제\n",
    "array = list(map(int, input().split()))\n",
    "\n",
    "if(array[0] ==1):\n",
    "    first = 1\n",
    "    flag = 0\n",
    "    \n",
    "    for i in range (1,8):\n",
    "        \n",
    "        if(array[i] > first):\n",
    "            flag = flag +1\n",
    "            first = array[i] \n",
    "    if(flag == 7):\n",
    "        print(\"ascending\")\n",
    "        flag = 0\n",
    "        first = 0\n",
    "    else:\n",
    "        print(\"mixed\")\n",
    "        \n",
    "\n",
    "if(array[0] == 8):\n",
    "    first = 8\n",
    "    flag2 = 0\n",
    "    \n",
    "    for i in range (1,8):\n",
    "        \n",
    "        if(array[i] < first):\n",
    "            flag2 = flag2 +1\n",
    "            first = array[i]\n",
    "    if(flag2 == 7):\n",
    "        print(\"descending\")\n",
    "    else:\n",
    "        print(\"mixed\")\n",
    "\n",
    "if( (array[0] != 1) and (array[0] != 8)):\n",
    "    print(\"mixed\")\n"
   ]
  }
 ],
 "metadata": {
  "kernelspec": {
   "display_name": "Python 3",
   "language": "python",
   "name": "python3"
  },
  "language_info": {
   "codemirror_mode": {
    "name": "ipython",
    "version": 3
   },
   "file_extension": ".py",
   "mimetype": "text/x-python",
   "name": "python",
   "nbconvert_exporter": "python",
   "pygments_lexer": "ipython3",
   "version": "3.7.6"
  }
 },
 "nbformat": 4,
 "nbformat_minor": 4
}
