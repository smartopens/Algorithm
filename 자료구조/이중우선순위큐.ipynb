{
 "cells": [
  {
   "cell_type": "code",
   "execution_count": 8,
   "metadata": {},
   "outputs": [
    {
     "data": {
      "text/plain": [
       "[18, 0]"
      ]
     },
     "execution_count": 8,
     "metadata": {},
     "output_type": "execute_result"
    }
   ],
   "source": [
    "import heapq\n",
    "\n",
    "def solution(operations):\n",
    "    answer = []\n",
    "    heap = []\n",
    "\n",
    "    for i in operations:\n",
    "        x = i[0]\n",
    "        y = int(i[2:])\n",
    "\n",
    "        if x == 'I':\n",
    "            heapq.heappush(heap, y)\n",
    "            \n",
    "        elif x == 'D' and y < 0:\n",
    "            if heap:\n",
    "                heapq.heappop(heap)\n",
    "        else:\n",
    "            if heap:\n",
    "                max_ = heapq.nlargest(1,heap)[0]\n",
    "                heap.remove(max_)\n",
    "                \n",
    "    heap.sort()\n",
    "    if heap:\n",
    "        if len(heap) > 1:\n",
    "            answer.append(heap.pop(-1))\n",
    "            answer.append(heapq.heappop(heap))\n",
    "        else:\n",
    "            ans = heap.pop(0)\n",
    "            answer.append(ans)\n",
    "            answer.append(0)\n",
    "    else:\n",
    "        answer = [0,0]\n",
    "\n",
    "    return answer\n",
    "\n",
    "solution([\"I 18\"])"
   ]
  }
 ],
 "metadata": {
  "kernelspec": {
   "display_name": "Python 3",
   "language": "python",
   "name": "python3"
  },
  "language_info": {
   "codemirror_mode": {
    "name": "ipython",
    "version": 3
   },
   "file_extension": ".py",
   "mimetype": "text/x-python",
   "name": "python",
   "nbconvert_exporter": "python",
   "pygments_lexer": "ipython3",
   "version": "3.7.6"
  }
 },
 "nbformat": 4,
 "nbformat_minor": 4
}
