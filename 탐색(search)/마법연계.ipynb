{
 "cells": [
  {
   "cell_type": "code",
   "execution_count": null,
   "metadata": {},
   "outputs": [],
   "source": []
  },
  {
   "cell_type": "code",
   "execution_count": 6,
   "metadata": {},
   "outputs": [
    {
     "name": "stdout",
     "output_type": "stream",
     "text": [
      "a b c d\n",
      "3\n",
      "a b\n",
      "c d\n",
      "d a\n",
      "['a', 'b', 'd', 'a']\n",
      "c d a b \n"
     ]
    }
   ],
   "source": [
    "import sys\n",
    "sys.setrecursionlimit(100000)\n",
    "\n",
    "\n",
    "def main():\n",
    "    \n",
    "    def dfs(v, array):\n",
    "        visited[v] = True\n",
    "        \n",
    "        if v in graph: \n",
    "            directions = graph[v]            \n",
    "            for i in directions:\n",
    "                if not(visited[i]):\n",
    "                    array.append(i)\n",
    "                    dfs(i,array)\n",
    "                    array.pop(array.index(i))\n",
    "                    \n",
    "        else:\n",
    "            for i in array:\n",
    "                print(i, end = ' ')\n",
    "            print()\n",
    "    \n",
    "    \n",
    "    skills = list((input().split()))\n",
    "    array = [[] for _ in range(len(skills))]\n",
    "    num = len(skills)\n",
    "    \n",
    "    graph = dict()\n",
    "    visited = dict()\n",
    "    \n",
    "    for i in skills:\n",
    "        visited[i] = False\n",
    "    \n",
    "    n = int(input())\n",
    "    \n",
    "    for _ in range(n):\n",
    "        x, y = input().split()\n",
    "        \n",
    "        if x not in graph:\n",
    "            graph[x] = []\n",
    "            graph[x].append(y)\n",
    "        else:\n",
    "            graph[x].append(y)\n",
    "    \n",
    "    values = sum(graph.values(), [\"a\"])\n",
    "    print(values)\n",
    "    for i in skills:\n",
    "        if not(visited[i]) and i not in values:\n",
    "            result = [i]\n",
    "            dfs(i, result)\n",
    "        \n",
    "        for k in skills:\n",
    "            visited[k] = False\n",
    "    \n",
    "\n",
    "if __name__==\"__main__\":\n",
    "    main()\n"
   ]
  }
 ],
 "metadata": {
  "kernelspec": {
   "display_name": "Python 3",
   "language": "python",
   "name": "python3"
  },
  "language_info": {
   "codemirror_mode": {
    "name": "ipython",
    "version": 3
   },
   "file_extension": ".py",
   "mimetype": "text/x-python",
   "name": "python",
   "nbconvert_exporter": "python",
   "pygments_lexer": "ipython3",
   "version": "3.7.6"
  }
 },
 "nbformat": 4,
 "nbformat_minor": 4
}
