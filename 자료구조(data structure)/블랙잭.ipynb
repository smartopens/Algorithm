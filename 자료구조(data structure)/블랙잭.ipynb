{
 "cells": [
  {
   "cell_type": "code",
   "execution_count": null,
   "metadata": {},
   "outputs": [],
   "source": [
    "#블랙잭\n",
    "N, M = list(map(int, input().split(' ')))\n",
    "array = list(map(int, input().split(' ')))\n",
    "\n",
    "length = len(array)\n",
    "result = 0\n",
    "\n",
    "for i in range (0, length):\n",
    "    for j in range (i+1, length):\n",
    "        for k in range (j+1, length):\n",
    "            \n",
    "            sum = array[i] + array[j] + array[k]\n",
    "            if(sum <= M):\n",
    "                result = max(result, sum)\n",
    "print(result)"
   ]
  }
 ],
 "metadata": {
  "kernelspec": {
   "display_name": "Python 3",
   "language": "python",
   "name": "python3"
  },
  "language_info": {
   "codemirror_mode": {
    "name": "ipython",
    "version": 3
   },
   "file_extension": ".py",
   "mimetype": "text/x-python",
   "name": "python",
   "nbconvert_exporter": "python",
   "pygments_lexer": "ipython3",
   "version": "3.7.6"
  }
 },
 "nbformat": 4,
 "nbformat_minor": 4
}
