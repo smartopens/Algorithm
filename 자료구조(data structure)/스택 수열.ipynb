{
 "cells": [
  {
   "cell_type": "code",
   "execution_count": null,
   "metadata": {},
   "outputs": [],
   "source": [
    "num = int(input())\n",
    "\n",
    "result = []\n",
    "stack = []\n",
    "count = 1\n",
    "\n",
    "for i in range (1, num+1):\n",
    "    data = int(input())\n",
    "    \n",
    "    while(count <= data):\n",
    "        result.append(\"+\")\n",
    "        stack.append(count)\n",
    "        count = count + 1\n",
    "    if(stack[-1] == data):\n",
    "        result.append(\"-\")\n",
    "        stack.pop()\n",
    "    else:\n",
    "        print(\"NO\")\n",
    "        exit(0)\n",
    "        \n",
    "print(\"\\n\".join(result))\n",
    "    "
   ]
  }
 ],
 "metadata": {
  "kernelspec": {
   "display_name": "Python 3",
   "language": "python",
   "name": "python3"
  },
  "language_info": {
   "codemirror_mode": {
    "name": "ipython",
    "version": 3
   },
   "file_extension": ".py",
   "mimetype": "text/x-python",
   "name": "python",
   "nbconvert_exporter": "python",
   "pygments_lexer": "ipython3",
   "version": "3.7.6"
  }
 },
 "nbformat": 4,
 "nbformat_minor": 4
}
